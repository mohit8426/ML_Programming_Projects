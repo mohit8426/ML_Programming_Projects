{
  "nbformat": 4,
  "nbformat_minor": 0,
  "metadata": {
    "colab": {
      "provenance": []
    },
    "kernelspec": {
      "name": "python3",
      "display_name": "Python 3"
    },
    "language_info": {
      "name": "python"
    }
  },
  "cells": [
    {
      "cell_type": "code",
      "source": [
        "'''\n",
        "Assignment-2 \n",
        "Name: Mohit Shailesh Kulkarni\n",
        "UTA ID: 1002031021\n",
        "References: \n",
        "https://towardsdatascience.com/implementing-yann-lecuns-lenet-5-in-pytorch-5e05a0911320\n",
        "https://www.analyticsvidhya.com/blog/2021/03/the-architecture-of-lenet-5/\n",
        "https://datahacker.rs/lenet-5-implementation-tensorflow-2-0/\n",
        "'''\n",
        "import matplotlib.pyplot as plt\n",
        "import numpy as np\n",
        "from datetime import datetime \n",
        "\n",
        "import torch\n",
        "from torch import nn, optim\n",
        "from torch.utils.data import DataLoader\n",
        "from torchvision import datasets, transforms\n",
        "import torch.nn.functional as F\n",
        "from torchsummaryX import summary as summaryX\n",
        "from torchsummary import summary"
      ],
      "metadata": {
        "id": "Rdl2XsbWjhwK"
      },
      "execution_count": 1,
      "outputs": []
    },
    {
      "cell_type": "code",
      "source": [
        "device = (\"cuda\" if torch.cuda.is_available() else \"cpu\") # This is for the trainning from GPU or CPU"
      ],
      "metadata": {
        "id": "u-h_BGzqkIVf"
      },
      "execution_count": 2,
      "outputs": []
    },
    {
      "cell_type": "code",
      "source": [
        "device"
      ],
      "metadata": {
        "colab": {
          "base_uri": "https://localhost:8080/",
          "height": 36
        },
        "id": "2Xl-u2hDogeq",
        "outputId": "d0ad0190-ef98-45c8-cd32-2df964b49c2b"
      },
      "execution_count": 3,
      "outputs": [
        {
          "output_type": "execute_result",
          "data": {
            "text/plain": [
              "'cpu'"
            ],
            "application/vnd.google.colaboratory.intrinsic+json": {
              "type": "string"
            }
          },
          "metadata": {},
          "execution_count": 3
        }
      ]
    },
    {
      "cell_type": "code",
      "source": [
        "transform = transforms.Compose([\n",
        "          transforms.Resize((32, 32)),\n",
        "          transforms.ToTensor()\n",
        "          ])\n",
        "\n",
        "train_set = datasets.MNIST(root='DATA_MNIST/', download=True, train=True, transform=transform)\n",
        "trainloader = torch.utils.data.DataLoader(train_set, batch_size=64, shuffle=True)\n",
        "\n",
        "test_set = datasets.MNIST(root='DATA_MNIST/', train=False, transform=transform)\n",
        "testloader = torch.utils.data.DataLoader(test_set, batch_size=64, shuffle=True)\n",
        "\n",
        "train_data_size = len(train_set)\n",
        "test_data_size = len(test_set)"
      ],
      "metadata": {
        "id": "PySo4xHLoov7"
      },
      "execution_count": 4,
      "outputs": []
    },
    {
      "cell_type": "code",
      "source": [
        "training_data = enumerate(trainloader)\n",
        "batch_idx, (images, labels) = next(training_data)\n",
        "print(images.shape)\n",
        "print(labels.shape)\n",
        "\n",
        "testing_data = enumerate(testloader)\n",
        "batch_idx, (images, labels) = next(testing_data)\n",
        "print(images.shape)\n",
        "print(labels.shape)\n"
      ],
      "metadata": {
        "colab": {
          "base_uri": "https://localhost:8080/",
          "height": 0
        },
        "id": "8Q7ehNzAox8S",
        "outputId": "b7afd0d6-59bb-41b8-dc7d-3ce000480a10"
      },
      "execution_count": 5,
      "outputs": [
        {
          "output_type": "stream",
          "name": "stdout",
          "text": [
            "torch.Size([64, 1, 32, 32])\n",
            "torch.Size([64])\n",
            "torch.Size([64, 1, 32, 32])\n",
            "torch.Size([64])\n"
          ]
        }
      ]
    },
    {
      "cell_type": "code",
      "source": [
        "\n",
        "class LeNet5(nn.Module):\n",
        "  def __init__(self):\n",
        "    super(LeNet5, self).__init__()\n",
        "\n",
        "    self.conv1 = nn.Conv2d(in_channels = 1, out_channels = 6, \n",
        "                           kernel_size = 5, stride = 1, padding = 0)\n",
        "    self.conv2 = nn.Conv2d(in_channels = 6, out_channels = 16, \n",
        "                           kernel_size = 5, stride = 1, padding = 0)\n",
        "    self.conv3 = nn.Conv2d(in_channels = 16, out_channels = 120, \n",
        "                           kernel_size = 5, stride = 1, padding = 0)\n",
        "    self.linear1 = nn.Linear(120, 84)\n",
        "    self.linear2 = nn.Linear(84, 10)\n",
        "    self.tanh = nn.Tanh()\n",
        "    self.avgpool = nn.AvgPool2d(kernel_size = 2, stride = 2)\n",
        "\n",
        "  def forward(self, out):\n",
        "    out = self.conv1(out)\n",
        "    out = self.tanh(out)\n",
        "    out = self.avgpool(out)\n",
        "    out = self.conv2(out)\n",
        "    out = self.tanh(out)\n",
        "    out = self.avgpool(out)\n",
        "    out = self.conv3(out)\n",
        "    out = self.tanh(out)\n",
        "    \n",
        "    out = out.reshape(out.shape[0], -1)\n",
        "    out = self.linear1(out)\n",
        "    out = self.tanh(out)\n",
        "    out = self.linear2(out)\n",
        "    return out\n",
        "\n",
        "model = LeNet5()\n",
        "out = torch.randn(64,1,32,32)\n",
        "output = model(out)\n",
        "\n",
        "print(model)\n",
        "summary(model, (1,32,32))\n",
        "print(\"output.shape : \",output.shape)"
      ],
      "metadata": {
        "colab": {
          "base_uri": "https://localhost:8080/",
          "height": 0
        },
        "id": "YpeuDvdlqScR",
        "outputId": "61708cfc-d7ca-4002-cf5a-7b2a04acc32f"
      },
      "execution_count": 6,
      "outputs": [
        {
          "output_type": "stream",
          "name": "stdout",
          "text": [
            "LeNet5(\n",
            "  (conv1): Conv2d(1, 6, kernel_size=(5, 5), stride=(1, 1))\n",
            "  (conv2): Conv2d(6, 16, kernel_size=(5, 5), stride=(1, 1))\n",
            "  (conv3): Conv2d(16, 120, kernel_size=(5, 5), stride=(1, 1))\n",
            "  (linear1): Linear(in_features=120, out_features=84, bias=True)\n",
            "  (linear2): Linear(in_features=84, out_features=10, bias=True)\n",
            "  (tanh): Tanh()\n",
            "  (avgpool): AvgPool2d(kernel_size=2, stride=2, padding=0)\n",
            ")\n",
            "----------------------------------------------------------------\n",
            "        Layer (type)               Output Shape         Param #\n",
            "================================================================\n",
            "            Conv2d-1            [-1, 6, 28, 28]             156\n",
            "              Tanh-2            [-1, 6, 28, 28]               0\n",
            "         AvgPool2d-3            [-1, 6, 14, 14]               0\n",
            "            Conv2d-4           [-1, 16, 10, 10]           2,416\n",
            "              Tanh-5           [-1, 16, 10, 10]               0\n",
            "         AvgPool2d-6             [-1, 16, 5, 5]               0\n",
            "            Conv2d-7            [-1, 120, 1, 1]          48,120\n",
            "              Tanh-8            [-1, 120, 1, 1]               0\n",
            "            Linear-9                   [-1, 84]          10,164\n",
            "             Tanh-10                   [-1, 84]               0\n",
            "           Linear-11                   [-1, 10]             850\n",
            "================================================================\n",
            "Total params: 61,706\n",
            "Trainable params: 61,706\n",
            "Non-trainable params: 0\n",
            "----------------------------------------------------------------\n",
            "Input size (MB): 0.00\n",
            "Forward/backward pass size (MB): 0.11\n",
            "Params size (MB): 0.24\n",
            "Estimated Total Size (MB): 0.35\n",
            "----------------------------------------------------------------\n",
            "output.shape :  torch.Size([64, 10])\n"
          ]
        }
      ]
    },
    {
      "cell_type": "code",
      "source": [
        "optimizer = optim.Adam(model.parameters(), lr=0.001)\n",
        "criterion = nn.CrossEntropyLoss()"
      ],
      "metadata": {
        "id": "JgDFEvzMrtdQ"
      },
      "execution_count": 7,
      "outputs": []
    },
    {
      "cell_type": "code",
      "source": [
        "epochs = 14\n",
        "train_loss, val_loss = [], []\n",
        "\n",
        "for epoch in range(epochs):\n",
        "   \n",
        "    total_train_loss = 0\n",
        "    total_val_loss = 0\n",
        "\n",
        "    model.train()\n",
        "    total = 0\n",
        "    \n",
        "    # training our model\n",
        "    for idx, (image, label) in enumerate(trainloader):\n",
        "\n",
        "        image, label = image.to(device), label.to(device)\n",
        "        optimizer.zero_grad()\n",
        "        pred = model(image)\n",
        "\n",
        "        loss = criterion(pred, label)\n",
        "        total_train_loss += loss.item()\n",
        "\n",
        "        pred = torch.nn.functional.softmax(pred, dim=1)\n",
        "        for i, p in enumerate(pred):\n",
        "            if label[i] == torch.max(p.data, 0)[1]:\n",
        "                total = total + 1\n",
        "\n",
        "        loss.backward()\n",
        "        optimizer.step()\n",
        "\n",
        "    total_train_loss = total_train_loss / (idx + 1)\n",
        "    train_loss.append(total_train_loss)\n",
        "    \n",
        "    # validating our model\n",
        "    model.eval()\n",
        "    total1 = 0\n",
        "    for idx, (image, label) in enumerate(testloader):\n",
        "        image, label = image.to(device), label.to(device)\n",
        "        pred = model(image)\n",
        "        loss = criterion(pred, label)\n",
        "        total_val_loss += loss.item()\n",
        "\n",
        "        pred = torch.nn.functional.softmax(pred, dim=1)\n",
        "        for i, p in enumerate(pred):\n",
        "            if label[i] == torch.max(p.data, 0)[1]:\n",
        "                total1 = total1 + 1\n",
        "\n",
        "    train_acc = 100 * total / train_data_size\n",
        "    valid_acc = 100 * total1 / test_data_size\n",
        "\n",
        "    total_val_loss = total_val_loss / (idx + 1)\n",
        "    val_loss.append(total_val_loss)\n",
        "\n",
        "    if epoch % 1 == 0:\n",
        "        print(f'{datetime.now().time().replace(microsecond=0)} --- ''\\nEpoch: {}/{}, Train Loss: {:.4f}, Val Loss: {:.4f}, Train Acc: {:.4f}, Val Acc: {:.4f}'.format(epoch, epochs, total_train_loss, total_val_loss, train_acc, valid_acc))"
      ],
      "metadata": {
        "colab": {
          "base_uri": "https://localhost:8080/",
          "height": 0
        },
        "id": "87oUy1OauSN-",
        "outputId": "b659aa81-94f2-4997-9fb4-8385b82640ef"
      },
      "execution_count": 8,
      "outputs": [
        {
          "output_type": "stream",
          "name": "stdout",
          "text": [
            "01:42:21 --- \n",
            "Epoch: 0/14, Train Loss: 0.2957, Val Loss: 0.1002, Train Acc: 91.1283, Val Acc: 96.9400\n",
            "01:42:47 --- \n",
            "Epoch: 1/14, Train Loss: 0.0894, Val Loss: 0.0693, Train Acc: 97.2483, Val Acc: 97.8800\n",
            "01:43:12 --- \n",
            "Epoch: 2/14, Train Loss: 0.0609, Val Loss: 0.0489, Train Acc: 98.1233, Val Acc: 98.5300\n",
            "01:43:37 --- \n",
            "Epoch: 3/14, Train Loss: 0.0444, Val Loss: 0.0459, Train Acc: 98.5933, Val Acc: 98.5400\n",
            "01:44:03 --- \n",
            "Epoch: 4/14, Train Loss: 0.0366, Val Loss: 0.0484, Train Acc: 98.8917, Val Acc: 98.4000\n",
            "01:44:28 --- \n",
            "Epoch: 5/14, Train Loss: 0.0304, Val Loss: 0.0509, Train Acc: 98.9850, Val Acc: 98.4600\n",
            "01:44:53 --- \n",
            "Epoch: 6/14, Train Loss: 0.0258, Val Loss: 0.0469, Train Acc: 99.1783, Val Acc: 98.5200\n",
            "01:45:18 --- \n",
            "Epoch: 7/14, Train Loss: 0.0213, Val Loss: 0.0479, Train Acc: 99.3000, Val Acc: 98.6000\n",
            "01:45:42 --- \n",
            "Epoch: 8/14, Train Loss: 0.0185, Val Loss: 0.0502, Train Acc: 99.4300, Val Acc: 98.6200\n",
            "01:46:08 --- \n",
            "Epoch: 9/14, Train Loss: 0.0154, Val Loss: 0.0490, Train Acc: 99.5017, Val Acc: 98.5400\n",
            "01:46:32 --- \n",
            "Epoch: 10/14, Train Loss: 0.0137, Val Loss: 0.0465, Train Acc: 99.5783, Val Acc: 98.6400\n",
            "01:46:57 --- \n",
            "Epoch: 11/14, Train Loss: 0.0137, Val Loss: 0.0505, Train Acc: 99.5417, Val Acc: 98.4600\n",
            "01:47:22 --- \n",
            "Epoch: 12/14, Train Loss: 0.0134, Val Loss: 0.0498, Train Acc: 99.5450, Val Acc: 98.5200\n",
            "01:47:48 --- \n",
            "Epoch: 13/14, Train Loss: 0.0102, Val Loss: 0.0468, Train Acc: 99.6550, Val Acc: 98.7800\n"
          ]
        }
      ]
    },
    {
      "cell_type": "code",
      "source": [
        "plt.plot(train_loss)\n",
        "plt.plot(val_loss)"
      ],
      "metadata": {
        "colab": {
          "base_uri": "https://localhost:8080/",
          "height": 282
        },
        "id": "xWfpuDuVulvK",
        "outputId": "410ef7d6-c28e-45b2-cab5-36d7dea60c3e"
      },
      "execution_count": 9,
      "outputs": [
        {
          "output_type": "execute_result",
          "data": {
            "text/plain": [
              "[<matplotlib.lines.Line2D at 0x7f15109420d0>]"
            ]
          },
          "metadata": {},
          "execution_count": 9
        },
        {
          "output_type": "display_data",
          "data": {
            "text/plain": [
              "<Figure size 432x288 with 1 Axes>"
            ],
            "image/png": "[encoded data removed]"
          },
          "metadata": {
            "needs_background": "light"
          }
        }
      ]
    },
    {
      "cell_type": "code",
      "source": [
        "ROW_IMG = 10\n",
        "N_ROWS = 5\n",
        "\n",
        "fig = plt.figure()\n",
        "for index in range(1, ROW_IMG * N_ROWS + 1):\n",
        "    plt.subplot(N_ROWS, ROW_IMG, index)\n",
        "    plt.axis('off')\n",
        "    plt.imshow(test_set.data[index], cmap='gray_r')\n",
        "    \n",
        "    with torch.no_grad():\n",
        "        model.eval()\n",
        "        probs = model(test_set[index][0].unsqueeze(0))\n",
        "        \n",
        "    title = f'{torch.argmax(probs)} (100%)'\n",
        "    \n",
        "    plt.title(title, fontsize=7)\n",
        "fig.suptitle('LeNet-5 - predictions');"
      ],
      "metadata": {
        "colab": {
          "base_uri": "https://localhost:8080/",
          "height": 273
        },
        "id": "MpwuLmRWOLEe",
        "outputId": "89df0c6e-0531-4cfb-887c-41a55040445c"
      },
      "execution_count": 10,
      "outputs": [
        {
          "output_type": "display_data",
          "data": {
            "text/plain": [
              "<Figure size 432x288 with 50 Axes>"
            ],
            "image/png": "[encoded data removed]"
          },
          "metadata": {
            "needs_background": "light"
          }
        }
      ]
    },
    {
      "cell_type": "code",
      "source": [],
      "metadata": {
        "id": "Dow2_hJDSPEK"
      },
      "execution_count": 10,
      "outputs": []
    }
  ]
}